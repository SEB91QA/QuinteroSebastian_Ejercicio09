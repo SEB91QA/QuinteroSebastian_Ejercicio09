{
 "cells": [
  {
   "cell_type": "code",
   "execution_count": 5,
   "metadata": {},
   "outputs": [
    {
     "name": "stdout",
     "output_type": "stream",
     "text": [
      "        Unnamed: 0  Murder  Assault  UrbanPop  Rape\n",
      "0          Alabama    13.2      236        58  21.2\n",
      "1           Alaska    10.0      263        48  44.5\n",
      "2          Arizona     8.1      294        80  31.0\n",
      "3         Arkansas     8.8      190        50  19.5\n",
      "4       California     9.0      276        91  40.6\n",
      "5         Colorado     7.9      204        78  38.7\n",
      "6      Connecticut     3.3      110        77  11.1\n",
      "7         Delaware     5.9      238        72  15.8\n",
      "8          Florida    15.4      335        80  31.9\n",
      "9          Georgia    17.4      211        60  25.8\n",
      "10          Hawaii     5.3       46        83  20.2\n",
      "11           Idaho     2.6      120        54  14.2\n",
      "12        Illinois    10.4      249        83  24.0\n",
      "13         Indiana     7.2      113        65  21.0\n",
      "14            Iowa     2.2       56        57  11.3\n",
      "15          Kansas     6.0      115        66  18.0\n",
      "16        Kentucky     9.7      109        52  16.3\n",
      "17       Louisiana    15.4      249        66  22.2\n",
      "18           Maine     2.1       83        51   7.8\n",
      "19        Maryland    11.3      300        67  27.8\n",
      "20   Massachusetts     4.4      149        85  16.3\n",
      "21        Michigan    12.1      255        74  35.1\n",
      "22       Minnesota     2.7       72        66  14.9\n",
      "23     Mississippi    16.1      259        44  17.1\n",
      "24        Missouri     9.0      178        70  28.2\n",
      "25         Montana     6.0      109        53  16.4\n",
      "26        Nebraska     4.3      102        62  16.5\n",
      "27          Nevada    12.2      252        81  46.0\n",
      "28   New Hampshire     2.1       57        56   9.5\n",
      "29      New Jersey     7.4      159        89  18.8\n",
      "30      New Mexico    11.4      285        70  32.1\n",
      "31        New York    11.1      254        86  26.1\n",
      "32  North Carolina    13.0      337        45  16.1\n",
      "33    North Dakota     0.8       45        44   7.3\n",
      "34            Ohio     7.3      120        75  21.4\n",
      "35        Oklahoma     6.6      151        68  20.0\n",
      "36          Oregon     4.9      159        67  29.3\n",
      "37    Pennsylvania     6.3      106        72  14.9\n",
      "38    Rhode Island     3.4      174        87   8.3\n",
      "39  South Carolina    14.4      279        48  22.5\n",
      "40    South Dakota     3.8       86        45  12.8\n",
      "41       Tennessee    13.2      188        59  26.9\n",
      "42           Texas    12.7      201        80  25.5\n",
      "43            Utah     3.2      120        80  22.9\n",
      "44         Vermont     2.2       48        32  11.2\n",
      "45        Virginia     8.5      156        63  20.7\n",
      "46      Washington     4.0      145        73  26.2\n",
      "47   West Virginia     5.7       81        39   9.3\n",
      "48       Wisconsin     2.6       53        66  10.8\n",
      "49         Wyoming     6.8      161        60  15.6\n",
      "Murder        7.788\n",
      "Assault     170.760\n",
      "UrbanPop     65.540\n",
      "Rape         21.232\n",
      "dtype: float64\n",
      "[[[-1.21519927 -1.01655004  0.44488204 -0.13899652]\n",
      "  [-1.02896475  1.45470156  0.08512458  0.77825773]\n",
      "  [ 0.3331463   0.1966139  -0.11486011 -0.15955907]\n",
      "  [-1.24801852 -0.60070796 -0.52499741 -0.65776112]\n",
      "  [ 0.23569768 -1.31337367 -0.26381816  0.19669337]\n",
      "  [ 0.91511961  0.71974907  1.2527009  -0.54996737]\n",
      "  [ 1.52180968 -0.44599706  0.1472348   0.05377697]\n",
      "  [-0.49696979 -1.25884896  0.5399472   2.60034195]\n",
      "  [ 0.56669693 -0.3726322  -1.01406886 -0.13402076]\n",
      "  [-1.40231388  0.68581294  0.38455414  1.06328942]]\n",
      "\n",
      " [[ 1.49341136  2.03332027 -0.8056452   0.85952278]\n",
      "  [ 0.71982002 -1.37277077  0.75359171  0.70664501]\n",
      "  [-0.23973388  0.22163645  2.33481356 -1.26126873]\n",
      "  [ 0.96567302 -0.96903217  1.53788065  0.54741012]\n",
      "  [ 2.59149718 -0.74334196 -0.91870123  1.15025211]\n",
      "  [-0.55307411 -1.13917137 -0.32156496 -2.48664922]\n",
      "  [-0.83166799 -0.23486324  0.49644429 -0.15623679]\n",
      "  [ 0.50986179 -0.3366441   0.43042264  0.59949895]\n",
      "  [-1.97288176  0.93774308  1.00851135 -1.38884273]\n",
      "  [ 1.6418406   1.33311115 -1.6110579  -0.06566179]]\n",
      "\n",
      " [[ 1.22902592  1.67959268  0.03466947 -0.36280904]\n",
      "  [ 1.13340853 -1.0776185   0.24428898 -0.55957075]\n",
      "  [-0.1287393  -1.29674769  0.80749941  1.19681322]\n",
      "  [ 0.26473117 -1.24671118 -0.25446508  0.4118124 ]\n",
      "  [ 0.35544346  0.78249499  1.9320045  -2.29341875]\n",
      "  [ 0.40844114 -0.88417064  0.41782719 -0.37811441]\n",
      "  [-0.85560698 -0.08644248 -0.74168938 -1.18595006]\n",
      "  [ 0.4117317   1.81638319 -0.52120504 -0.45991386]\n",
      "  [-0.34972056  0.58820148  2.08383425  0.24981814]\n",
      "  [ 2.61348606 -0.53916051 -0.55544239  0.72085083]]]\n"
     ]
    }
   ],
   "source": [
    "import pandas as pd\n",
    "import numpy as np\n",
    "import matplotlib as mpl\n",
    "import matplotlib.pyplot as plt\n",
    "\n",
    "\n",
    "do = pd.read_csv(\"USArrests.csv\")\n",
    "print(do)\n",
    "\n",
    "dm = do.mean()\n",
    "print(dm)\n",
    "\n",
    "arrays = [np.random.randn(3, 4) for _ in range(10)]\n",
    "a=np.stack(arrays, axis=1)\n",
    "a\n",
    "print(a)"
   ]
  },
  {
   "cell_type": "code",
   "execution_count": 4,
   "metadata": {},
   "outputs": [
    {
     "data": {
      "text/plain": [
       "(3, 10, 4)"
      ]
     },
     "execution_count": 4,
     "metadata": {},
     "output_type": "execute_result"
    }
   ],
   "source": [
    "a"
   ]
  },
  {
   "cell_type": "code",
   "execution_count": null,
   "metadata": {},
   "outputs": [],
   "source": []
  }
 ],
 "metadata": {
  "kernelspec": {
   "display_name": "Python 3",
   "language": "python",
   "name": "python3"
  },
  "language_info": {
   "codemirror_mode": {
    "name": "ipython",
    "version": 3
   },
   "file_extension": ".py",
   "mimetype": "text/x-python",
   "name": "python",
   "nbconvert_exporter": "python",
   "pygments_lexer": "ipython3",
   "version": "3.7.6"
  }
 },
 "nbformat": 4,
 "nbformat_minor": 4
}
