{
 "cells": [
  {
   "cell_type": "code",
   "execution_count": 39,
   "metadata": {},
   "outputs": [
    {
     "name": "stdout",
     "output_type": "stream",
     "text": [
      "[(0.05707777345048064, array([-0.95478636, -0.04155923, -0.03725306, -0.29200693])), (0.0088264445497119, array([-0.26765861,  0.02393388,  0.53026361,  0.80411849])), (0.003084508893086819, array([-0.12483525, -0.00573683, -0.84679818,  0.5170262 ])), (4.0338590977787715e-05, array([ 0.03402995, -0.99883286,  0.01911973,  0.02844837]))]\n",
      "[[-0.95478636 -0.26765861]\n",
      " [-0.04155923  0.02393388]\n",
      " [-0.03725306  0.53026361]\n",
      " [-0.29200693  0.80411849]]\n",
      "                PC1  PC2\n",
      "Alabama         NaN  NaN\n",
      "Alaska          NaN  NaN\n",
      "Arizona         NaN  NaN\n",
      "Arkansas        NaN  NaN\n",
      "California      NaN  NaN\n",
      "Colorado        NaN  NaN\n",
      "Connecticut     NaN  NaN\n",
      "Delaware        NaN  NaN\n",
      "Florida         NaN  NaN\n",
      "Georgia         NaN  NaN\n",
      "Hawaii          NaN  NaN\n",
      "Idaho           NaN  NaN\n",
      "Illinois        NaN  NaN\n",
      "Indiana         NaN  NaN\n",
      "Iowa            NaN  NaN\n",
      "Kansas          NaN  NaN\n",
      "Kentucky        NaN  NaN\n",
      "Louisiana       NaN  NaN\n",
      "Maine           NaN  NaN\n",
      "Maryland        NaN  NaN\n",
      "Massachusetts   NaN  NaN\n",
      "Michigan        NaN  NaN\n",
      "Minnesota       NaN  NaN\n",
      "Mississippi     NaN  NaN\n",
      "Missouri        NaN  NaN\n",
      "Montana         NaN  NaN\n",
      "Nebraska        NaN  NaN\n",
      "Nevada          NaN  NaN\n",
      "New Hampshire   NaN  NaN\n",
      "New Jersey      NaN  NaN\n",
      "New Mexico      NaN  NaN\n",
      "New York        NaN  NaN\n",
      "North Carolina  NaN  NaN\n",
      "North Dakota    NaN  NaN\n",
      "Ohio            NaN  NaN\n",
      "Oklahoma        NaN  NaN\n",
      "Oregon          NaN  NaN\n",
      "Pennsylvania    NaN  NaN\n",
      "Rhode Island    NaN  NaN\n",
      "South Carolina  NaN  NaN\n",
      "South Dakota    NaN  NaN\n",
      "Tennessee       NaN  NaN\n",
      "Texas           NaN  NaN\n",
      "Utah            NaN  NaN\n",
      "Vermont         NaN  NaN\n",
      "Virginia        NaN  NaN\n",
      "Washington      NaN  NaN\n",
      "West Virginia   NaN  NaN\n",
      "Wisconsin       NaN  NaN\n",
      "Wyoming         NaN  NaN\n"
     ]
    },
    {
     "data": {
      "image/png": "[encoded data removed]",
      "text/plain": [
       "<Figure size 648x504 with 1 Axes>"
      ]
     },
     "metadata": {
      "needs_background": "light"
     },
     "output_type": "display_data"
    }
   ],
   "source": [
    "import pandas as pd\n",
    "import numpy as np\n",
    "import matplotlib as mpl\n",
    "import matplotlib.pyplot as plt\n",
    "\n",
    "\n",
    "do = pd.read_csv(\"USArrests.csv\", index_col = 0)\n",
    "\n",
    "\n",
    "dm = do.mean()\n",
    "\n",
    "\n",
    "for name in ['Murder','Assault','UrbanPop','Rape']:\n",
    "    col1 = do[name]\n",
    "    col1_sc = (col1 - col1.mean())/col1.var()\n",
    "    df1 = pd.DataFrame({name:col1_sc})\n",
    "    do[name] = df1\n",
    "\n",
    "Xcov = np.cov(do.T)\n",
    "\n",
    "eig_val, eig_vec = np.linalg.eig(Xcov)\n",
    "eig_pairs =[(np.abs(eig_val[i]),eig_vec[:,i]) for i in range(len(eig_val))]\n",
    "eig_pairs.sort(key = lambda x: x[0], reverse=True)\n",
    "print(eig_pairs)\n",
    "\n",
    "\n",
    "tot = sum(eig_val)\n",
    "var_exp = [(i/tot)*100 for i in sorted(eig_val, reverse = True)]\n",
    "cum_var_exp = np.cumsum(var_exp)   #Suma acumulada\n",
    "#print(\"Lo que sea \\n\", var_exp)\n",
    "#print(\"Acumulado\", cum_var_exp)\n",
    "\n",
    "matrix_w = np.hstack((eig_pairs[0][1].reshape(4,1),eig_pairs[1][1].reshape(4,1)))\n",
    "print(matrix_w)\n",
    "\n",
    "Yt = do.dot(matrix_w)\n",
    "Y = pd.DataFrame(Yt,columns=['PC1','PC2'])\n",
    "\n",
    "\n",
    "\n",
    "print(Y)  #Organizar los nombres de canbezados\n",
    "\n",
    "\n",
    "\n",
    "fig, ax1 = plt.subplots(figsize=(9,7))\n",
    "\n",
    "ax1.set_xlim(-3.5,3.5)\n",
    "ax1.set_ylim(-3.5,3.5)\n",
    "\n",
    "target_names = do.head()\n",
    "\n",
    "for i in Y.index:\n",
    "    ax1.annotate(i, (Y.PC1.loc[i], -Y.PC2.loc[i]), ha='center')\n",
    "    \n",
    "    \n"
   ]
  },
  {
   "cell_type": "code",
   "execution_count": 4,
   "metadata": {},
   "outputs": [
    {
     "data": {
      "text/plain": [
       "(3, 10, 4)"
      ]
     },
     "execution_count": 4,
     "metadata": {},
     "output_type": "execute_result"
    }
   ],
   "source": [
    "a"
   ]
  },
  {
   "cell_type": "code",
   "execution_count": null,
   "metadata": {},
   "outputs": [],
   "source": []
  }
 ],
 "metadata": {
  "kernelspec": {
   "display_name": "Python 3",
   "language": "python",
   "name": "python3"
  },
  "language_info": {
   "codemirror_mode": {
    "name": "ipython",
    "version": 3
   },
   "file_extension": ".py",
   "mimetype": "text/x-python",
   "name": "python",
   "nbconvert_exporter": "python",
   "pygments_lexer": "ipython3",
   "version": "3.7.6"
  }
 },
 "nbformat": 4,
 "nbformat_minor": 4
}
